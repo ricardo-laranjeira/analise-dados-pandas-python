{
  "nbformat": 4,
  "nbformat_minor": 0,
  "metadata": {
    "colab": {
      "name": "AnaliseDadosPythonPandas.ipynb",
      "provenance": [],
      "mount_file_id": "1CYjR9GRmsXrc-LtcAmM4WF0qRl7m7EX-",
      "authorship_tag": "ABX9TyODyw37NP7I2bVG1Izdz8i+",
      "include_colab_link": true
    },
    "kernelspec": {
      "name": "python3",
      "display_name": "Python 3"
    },
    "language_info": {
      "name": "python"
    }
  },
  "cells": [
    {
      "cell_type": "markdown",
      "metadata": {
        "id": "view-in-github",
        "colab_type": "text"
      },
      "source": [
        "<a href=\"https://colab.research.google.com/github/ricardo-laranjeira/analise-dados-pandas-python/blob/main/AnaliseDadosPythonPandas.ipynb\" target=\"_parent\"><img src=\"https://colab.research.google.com/assets/colab-badge.svg\" alt=\"Open In Colab\"/></a>"
      ]
    },
    {
      "cell_type": "code",
      "metadata": {
        "id": "SRjiCXFDkV7S"
      },
      "source": [
        "import pandas as pd"
      ],
      "execution_count": 3,
      "outputs": []
    },
    {
      "cell_type": "code",
      "metadata": {
        "id": "Na--_xukpCGs"
      },
      "source": [
        "df = pd.read_csv(\"/content/drive/MyDrive/datasets/Gapminder.csv\", error_bad_lines=False, sep=\";\")"
      ],
      "execution_count": 4,
      "outputs": []
    },
    {
      "cell_type": "code",
      "metadata": {
        "colab": {
          "base_uri": "https://localhost:8080/"
        },
        "id": "qoiTxnMtpThl",
        "outputId": "ced5186e-3de4-4625-c7bf-1acdf84e1f67"
      },
      "source": [
        "# Primeiras 5 linhas, default\n",
        "print(df.head())"
      ],
      "execution_count": 5,
      "outputs": [
        {
          "output_type": "stream",
          "name": "stdout",
          "text": [
            "       country continent  year  lifeExp       pop   gdpPercap\n",
            "0  Afghanistan      Asia  1952   28.801   8425333  779.445314\n",
            "1  Afghanistan      Asia  1957   30.332   9240934  820.853030\n",
            "2  Afghanistan      Asia  1962   31.997  10267083  853.100710\n",
            "3  Afghanistan      Asia  1967   34.020  11537966  836.197138\n",
            "4  Afghanistan      Asia  1972   36.088  13079460  739.981106\n"
          ]
        }
      ]
    },
    {
      "cell_type": "code",
      "metadata": {
        "id": "0JaDBJwdqMQ5"
      },
      "source": [
        "df = df.rename(columns={\"country\": \"pais\", \"continent\": \"continente\", \"year\": \"ano\", \"lifeExp\": \"Expectativa de vida\", \"pop\": \"Pop Total\", \"gdpPercap\": \"PIB\"})"
      ],
      "execution_count": 6,
      "outputs": []
    },
    {
      "cell_type": "code",
      "metadata": {
        "colab": {
          "base_uri": "https://localhost:8080/"
        },
        "id": "lM825KKoqP7v",
        "outputId": "57a8366b-c9a5-4d23-80c4-6bf1da7f6e16"
      },
      "source": [
        "# Primeiras 10 linhas\n",
        "print(df.head(10))"
      ],
      "execution_count": 7,
      "outputs": [
        {
          "output_type": "stream",
          "name": "stdout",
          "text": [
            "          pais continente   ano  Expectativa de vida  Pop Total         PIB\n",
            "0  Afghanistan       Asia  1952               28.801    8425333  779.445314\n",
            "1  Afghanistan       Asia  1957               30.332    9240934  820.853030\n",
            "2  Afghanistan       Asia  1962               31.997   10267083  853.100710\n",
            "3  Afghanistan       Asia  1967               34.020   11537966  836.197138\n",
            "4  Afghanistan       Asia  1972               36.088   13079460  739.981106\n",
            "5  Afghanistan       Asia  1977               38.438   14880372  786.113360\n",
            "6  Afghanistan       Asia  1982               39.854   12881816  978.011439\n",
            "7  Afghanistan       Asia  1987               40.822   13867957  852.395945\n",
            "8  Afghanistan       Asia  1992               41.674   16317921  649.341395\n",
            "9  Afghanistan       Asia  1997               41.763   22227415  635.341351\n"
          ]
        }
      ]
    },
    {
      "cell_type": "code",
      "metadata": {
        "colab": {
          "base_uri": "https://localhost:8080/"
        },
        "id": "GVaa2OdOqT71",
        "outputId": "edce55cd-d5f3-463d-8aa8-48f7517c1ab0"
      },
      "source": [
        "# Quantidade de linhs e colunas\n",
        "print(df.shape)"
      ],
      "execution_count": 8,
      "outputs": [
        {
          "output_type": "stream",
          "name": "stdout",
          "text": [
            "(3312, 6)\n"
          ]
        }
      ]
    },
    {
      "cell_type": "code",
      "metadata": {
        "colab": {
          "base_uri": "https://localhost:8080/"
        },
        "id": "Jnrtn-zdqVEL",
        "outputId": "14941a1c-e414-4ba7-ec6e-443cebe09b6f"
      },
      "source": [
        "# Quantidade de colunas\n",
        "print(df.columns)"
      ],
      "execution_count": 9,
      "outputs": [
        {
          "output_type": "stream",
          "name": "stdout",
          "text": [
            "Index(['pais', 'continente', 'ano', 'Expectativa de vida', 'Pop Total', 'PIB'], dtype='object')\n"
          ]
        }
      ]
    },
    {
      "cell_type": "code",
      "metadata": {
        "colab": {
          "base_uri": "https://localhost:8080/"
        },
        "id": "jYk6yGhNqXZd",
        "outputId": "6ab514d0-91fb-4405-b310-ae9c69ff8761"
      },
      "source": [
        "# Tipos das colunas\n",
        "print(df.dtypes)"
      ],
      "execution_count": 10,
      "outputs": [
        {
          "output_type": "stream",
          "name": "stdout",
          "text": [
            "pais                    object\n",
            "continente              object\n",
            "ano                      int64\n",
            "Expectativa de vida    float64\n",
            "Pop Total                int64\n",
            "PIB                    float64\n",
            "dtype: object\n"
          ]
        }
      ]
    },
    {
      "cell_type": "code",
      "metadata": {
        "colab": {
          "base_uri": "https://localhost:8080/"
        },
        "id": "OEOjQICOqZcZ",
        "outputId": "13e4b73c-f523-4976-b53f-8e57d8043513"
      },
      "source": [
        "# Ultimas linhas\n",
        "print(df.tail())"
      ],
      "execution_count": 11,
      "outputs": [
        {
          "output_type": "stream",
          "name": "stdout",
          "text": [
            "          pais continente   ano  Expectativa de vida  Pop Total         PIB\n",
            "3307  Zimbabwe     Africa  1987               62.351    9216418  706.157306\n",
            "3308  Zimbabwe     Africa  1992               60.377   10704340  693.420786\n",
            "3309  Zimbabwe     Africa  1997               46.809   11404948  792.449960\n",
            "3310  Zimbabwe     Africa  2002               39.989   11926563  672.038623\n",
            "3311  Zimbabwe     Africa  2007               43.487   12311143  469.709298\n"
          ]
        }
      ]
    },
    {
      "cell_type": "code",
      "metadata": {
        "colab": {
          "base_uri": "https://localhost:8080/"
        },
        "id": "-z4tRzzeqbw3",
        "outputId": "46461041-6e55-4467-f6fb-69c486d0c4e9"
      },
      "source": [
        "# Retorna as 15 utimas linhas\n",
        "print(df.tail(15))"
      ],
      "execution_count": 12,
      "outputs": [
        {
          "output_type": "stream",
          "name": "stdout",
          "text": [
            "          pais continente   ano  Expectativa de vida  Pop Total          PIB\n",
            "3297    Zambia     Africa  1997               40.238    9417789  1071.353818\n",
            "3298    Zambia     Africa  2002               39.193   10595811  1071.613938\n",
            "3299    Zambia     Africa  2007               42.384   11746035  1271.211593\n",
            "3300  Zimbabwe     Africa  1952               48.451    3080907   406.884115\n",
            "3301  Zimbabwe     Africa  1957               50.469    3646340   518.764268\n",
            "3302  Zimbabwe     Africa  1962               52.358    4277736   527.272182\n",
            "3303  Zimbabwe     Africa  1967               53.995    4995432   569.795071\n",
            "3304  Zimbabwe     Africa  1972               55.635    5861135   799.362176\n",
            "3305  Zimbabwe     Africa  1977               57.674    6642107   685.587682\n",
            "3306  Zimbabwe     Africa  1982               60.363    7636524   788.855041\n",
            "3307  Zimbabwe     Africa  1987               62.351    9216418   706.157306\n",
            "3308  Zimbabwe     Africa  1992               60.377   10704340   693.420786\n",
            "3309  Zimbabwe     Africa  1997               46.809   11404948   792.449960\n",
            "3310  Zimbabwe     Africa  2002               39.989   11926563   672.038623\n",
            "3311  Zimbabwe     Africa  2007               43.487   12311143   469.709298\n"
          ]
        }
      ]
    },
    {
      "cell_type": "code",
      "metadata": {
        "colab": {
          "base_uri": "https://localhost:8080/"
        },
        "id": "_xFDhdJAqeFP",
        "outputId": "258b9d30-ef07-4782-ad17-320354006b2b"
      },
      "source": [
        "# Retorna informacoes estatisticas\n",
        "print(df.describe())"
      ],
      "execution_count": 13,
      "outputs": [
        {
          "output_type": "stream",
          "name": "stdout",
          "text": [
            "               ano  Expectativa de vida     Pop Total            PIB\n",
            "count  3312.000000          3312.000000  3.312000e+03    3312.000000\n",
            "mean   1980.301630            65.246871  3.161489e+07   11317.115805\n",
            "std      16.927294            11.768412  1.041193e+08   11369.142739\n",
            "min    1950.000000            23.599000  5.941200e+04     241.165877\n",
            "25%    1967.000000            58.337500  2.678572e+06    2514.625266\n",
            "50%    1982.000000            69.610000  7.557218e+06    7838.505123\n",
            "75%    1996.000000            73.657750  1.958522e+07   17357.879170\n",
            "max    2007.000000            82.670000  1.318683e+09  113523.132900\n"
          ]
        }
      ]
    },
    {
      "cell_type": "code",
      "metadata": {
        "colab": {
          "base_uri": "https://localhost:8080/"
        },
        "id": "hyNSiV9Uqj0k",
        "outputId": "a2202344-3dfa-46cc-ebba-e8b835f1fafe"
      },
      "source": [
        "# Tras os continentes\n",
        "print(df[\"continente\"].unique())"
      ],
      "execution_count": 14,
      "outputs": [
        {
          "output_type": "stream",
          "name": "stdout",
          "text": [
            "['Asia' 'Europe' 'Africa' 'Americas' nan 'FSU' 'Oceania']\n"
          ]
        }
      ]
    },
    {
      "cell_type": "code",
      "metadata": {
        "id": "iaVkbbPtqmHh"
      },
      "source": [
        "# Registros do continente Oceania\n",
        "oceania = df.loc[df[\"continente\"] == \"Oceania\"]"
      ],
      "execution_count": 15,
      "outputs": []
    },
    {
      "cell_type": "code",
      "metadata": {
        "colab": {
          "base_uri": "https://localhost:8080/"
        },
        "id": "hW8enGrfqplo",
        "outputId": "18b8be42-9cc8-4fd4-da65-5733625dd724"
      },
      "source": [
        "print(oceania.head())"
      ],
      "execution_count": 16,
      "outputs": [
        {
          "output_type": "stream",
          "name": "stdout",
          "text": [
            "     pais continente   ano  Expectativa de vida  Pop Total          PIB\n",
            "975  Fiji    Oceania  1962               56.494     421869  2039.393277\n",
            "976  Fiji    Oceania  1967               58.607     485000  2170.073285\n",
            "977  Fiji    Oceania  1972               60.642     544000  2797.759484\n",
            "978  Fiji    Oceania  1977               62.669     599339  3182.569600\n",
            "979  Fiji    Oceania  1982               64.683     658906  3209.257468\n"
          ]
        }
      ]
    },
    {
      "cell_type": "code",
      "metadata": {
        "colab": {
          "base_uri": "https://localhost:8080/"
        },
        "id": "mCWah90Iqry7",
        "outputId": "ac5ad8a3-8457-4e63-9e4b-4696f6820fb5"
      },
      "source": [
        "print(oceania[\"continente\"].unique())"
      ],
      "execution_count": 17,
      "outputs": [
        {
          "output_type": "stream",
          "name": "stdout",
          "text": [
            "['Oceania']\n"
          ]
        }
      ]
    },
    {
      "cell_type": "code",
      "metadata": {
        "colab": {
          "base_uri": "https://localhost:8080/"
        },
        "id": "-4RkIIs5qsc2",
        "outputId": "b8f191cf-7ca3-4244-b1fa-ebc7a31fc873"
      },
      "source": [
        "# Agrupar paises por continente\n",
        "print(df.groupby(\"continente\")[\"pais\"].nunique())"
      ],
      "execution_count": 18,
      "outputs": [
        {
          "output_type": "stream",
          "name": "stdout",
          "text": [
            "continente\n",
            "Africa      51\n",
            "Americas    25\n",
            "Asia        41\n",
            "Europe      35\n",
            "FSU          6\n",
            "Oceania      3\n",
            "Name: pais, dtype: int64\n"
          ]
        }
      ]
    },
    {
      "cell_type": "code",
      "metadata": {
        "colab": {
          "base_uri": "https://localhost:8080/"
        },
        "id": "db9xxtxoqubt",
        "outputId": "f01b4104-6fe6-4528-ee7a-64400ce52f37"
      },
      "source": [
        "# Expectativa de vda media por ano\n",
        "print(df.groupby(\"ano\")[\"Expectativa de vida\"].mean())"
      ],
      "execution_count": 19,
      "outputs": [
        {
          "output_type": "stream",
          "name": "stdout",
          "text": [
            "ano\n",
            "1950    62.002568\n",
            "1951    65.904167\n",
            "1952    49.206867\n",
            "1953    66.674563\n",
            "1954    67.459817\n",
            "1955    67.806757\n",
            "1956    67.950637\n",
            "1957    51.614590\n",
            "1958    68.815936\n",
            "1959    68.226579\n",
            "1960    68.470837\n",
            "1961    68.862480\n",
            "1962    54.035234\n",
            "1963    69.595735\n",
            "1964    70.063105\n",
            "1965    70.259881\n",
            "1966    70.447526\n",
            "1967    56.263629\n",
            "1968    70.689081\n",
            "1969    70.653896\n",
            "1970    70.961141\n",
            "1971    71.103976\n",
            "1972    58.474481\n",
            "1973    71.500338\n",
            "1974    71.778504\n",
            "1975    71.939218\n",
            "1976    72.158050\n",
            "1977    60.429090\n",
            "1978    72.717567\n",
            "1979    73.018717\n",
            "1980    73.064524\n",
            "1981    73.337399\n",
            "1982    62.365871\n",
            "1983    73.787778\n",
            "1984    74.100741\n",
            "1985    74.112222\n",
            "1986    74.452222\n",
            "1987    63.984860\n",
            "1988    74.760000\n",
            "1989    74.924444\n",
            "1990    74.283437\n",
            "1991    74.374848\n",
            "1992    65.008443\n",
            "1993    74.324545\n",
            "1994    74.456667\n",
            "1995    74.552727\n",
            "1996    75.029394\n",
            "1997    65.873799\n",
            "1998    75.569697\n",
            "1999    75.703636\n",
            "2000    76.026364\n",
            "2001    76.257879\n",
            "2002    66.835695\n",
            "2003    76.586667\n",
            "2004    76.921563\n",
            "2005    76.718667\n",
            "2006    77.887778\n",
            "2007    67.868557\n",
            "Name: Expectativa de vida, dtype: float64\n"
          ]
        }
      ]
    },
    {
      "cell_type": "code",
      "metadata": {
        "id": "H41lIfTXqw2o"
      },
      "source": [
        "# Media PIB\n",
        "print(df[\"PIB\"].mean())"
      ],
      "execution_count": null,
      "outputs": []
    },
    {
      "cell_type": "code",
      "metadata": {
        "id": "cxAtNurIqzGG"
      },
      "source": [
        "# Soma PIB\n",
        "print(df[\"PIB\"].sum())"
      ],
      "execution_count": null,
      "outputs": []
    }
  ]
}